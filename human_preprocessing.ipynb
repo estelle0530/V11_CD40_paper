{
 "cells": [
  {
   "cell_type": "code",
   "execution_count": 1,
   "id": "d0ea64ca-8cc7-4f2a-803c-68bf98cb5ef3",
   "metadata": {},
   "outputs": [
    {
     "name": "stdout",
     "output_type": "stream",
     "text": [
      "scanpy==1.9.8 anndata==0.9.2 umap==0.5.6 numpy==1.24.4 scipy==1.10.1 pandas==1.5.3 scikit-learn==1.3.2 statsmodels==0.14.1 igraph==0.11.6 pynndescent==0.5.13\n"
     ]
    }
   ],
   "source": [
    "## Cell type specific model \n",
    "### total counts \n",
    "import pandas as pd\n",
    "import numpy as np\n",
    "import math\n",
    "from itertools import combinations\n",
    "import seaborn as sns\n",
    "import warnings\n",
    "warnings.filterwarnings('ignore')\n",
    "\n",
    "import os\n",
    "import sys\n",
    "import matplotlib.pyplot as plt\n",
    "import seaborn as sns\n",
    "from statsmodels.stats.multitest import fdrcorrection\n",
    "import warnings\n",
    "warnings.filterwarnings('ignore')\n",
    "import subprocess\n",
    "from adjustText import adjust_text\n",
    "import scanpy as sc\n",
    "sc.settings.verbosiforty = 3             # verbosity: errors (0), warnings (1), info (2), hints (3)\n",
    "sc.logging.print_header()\n",
    "sc.settings.set_figure_params(dpi=80, facecolor='white')\n",
    "import warnings\n",
    "warnings.filterwarnings('ignore')\n",
    "import matplotlib.pyplot as plt \n",
    "import seaborn as sns\n",
    "sns.set_style(\"whitegrid\", {'axes.grid' : False})\n",
    "import anndata as ad\n",
    "import scipy.sparse as sp\n",
    "\n",
    "import muon as mu\n",
    "from muon import prot as pt"
   ]
  },
  {
   "cell_type": "markdown",
   "id": "b5db6de6-2811-45d3-9d36-359da87c3465",
   "metadata": {},
   "source": [
    "## Work flow \n",
    "1. cellrangker "
   ]
  },
  {
   "cell_type": "code",
   "execution_count": 2,
   "id": "df54700f-ce7d-4860-9fef-7a3a503f67ef",
   "metadata": {},
   "outputs": [],
   "source": [
    "output, data = [],[]\n",
    "for i in os.listdir('./white_list'):\n",
    "    if 'check' not in i:\n",
    "        data.append(i.replace('.tsv',''))\n",
    "\n",
    "data = pd.DataFrame({'sample': data})\n",
    "data['name'] = [i for i in data['sample']]\n",
    "data['project'] = [i.split('_IGO')[1].split('_')[1] for i in data['name']]\n",
    "data['ID'] = [i.split('_IGO')[0].split('_')[1] for i in data['name']]\n",
    "data = data.sort_values(by = ['project'])"
   ]
  },
  {
   "cell_type": "markdown",
   "id": "c879049b-db1d-4ce8-9cd5-40cb82272ea8",
   "metadata": {},
   "source": [
    "## Read individual folders "
   ]
  },
  {
   "cell_type": "code",
   "execution_count": 19,
   "id": "49732700-2a6f-486a-80a8-f48ab933b27e",
   "metadata": {},
   "outputs": [
    {
     "name": "stdout",
     "output_type": "stream",
     "text": [
      "Sample_1008_FB_IGO_14423_D_8_FB\n",
      "Sample_1004_FB_IGO_14423_D_4_FB\n",
      "Sample_1002_FB_IGO_14423_D_2_FB\n",
      "Sample_1005_FB_IGO_14423_D_5_FB\n",
      "Sample_1001_FB_IGO_14423_D_1_FB\n",
      "Sample_1007_FB_IGO_14423_D_7_FB\n",
      "Sample_1003_FB_IGO_14423_D_3_FB\n",
      "Sample_1006_FB_IGO_14423_D_6_FB\n"
     ]
    },
    {
     "data": {
      "text/html": [
       "<div>\n",
       "<style scoped>\n",
       "    .dataframe tbody tr th:only-of-type {\n",
       "        vertical-align: middle;\n",
       "    }\n",
       "\n",
       "    .dataframe tbody tr th {\n",
       "        vertical-align: top;\n",
       "    }\n",
       "\n",
       "    .dataframe thead th {\n",
       "        text-align: right;\n",
       "    }\n",
       "</style>\n",
       "<table border=\"1\" class=\"dataframe\">\n",
       "  <thead>\n",
       "    <tr style=\"text-align: right;\">\n",
       "      <th></th>\n",
       "      <th>cite</th>\n",
       "      <th>ID</th>\n",
       "      <th>name</th>\n",
       "      <th>dir</th>\n",
       "    </tr>\n",
       "  </thead>\n",
       "  <tbody>\n",
       "    <tr>\n",
       "      <th>0</th>\n",
       "      <td>Sample_1008_FB_IGO_14423_D_8_FB</td>\n",
       "      <td>1008</td>\n",
       "      <td>Sample_1008_IGO_14423_D_8</td>\n",
       "      <td>Sample_1008_IGO_14423_8</td>\n",
       "    </tr>\n",
       "    <tr>\n",
       "      <th>1</th>\n",
       "      <td>Sample_1004_FB_IGO_14423_D_4_FB</td>\n",
       "      <td>1004</td>\n",
       "      <td>Sample_1004_IGO_14423_D_4</td>\n",
       "      <td>Sample_1004_IGO_14423_4</td>\n",
       "    </tr>\n",
       "    <tr>\n",
       "      <th>2</th>\n",
       "      <td>Sample_1002_FB_IGO_14423_D_2_FB</td>\n",
       "      <td>1002</td>\n",
       "      <td>Sample_1002_IGO_14423_D_2</td>\n",
       "      <td>Sample_1002_IGO_14423_2</td>\n",
       "    </tr>\n",
       "    <tr>\n",
       "      <th>3</th>\n",
       "      <td>Sample_1005_FB_IGO_14423_D_5_FB</td>\n",
       "      <td>1005</td>\n",
       "      <td>Sample_1005_IGO_14423_D_5</td>\n",
       "      <td>Sample_1005_IGO_14423_5</td>\n",
       "    </tr>\n",
       "    <tr>\n",
       "      <th>4</th>\n",
       "      <td>Sample_1001_FB_IGO_14423_D_1_FB</td>\n",
       "      <td>1001</td>\n",
       "      <td>Sample_1001_IGO_14423_D_1</td>\n",
       "      <td>Sample_1001_IGO_14423_1</td>\n",
       "    </tr>\n",
       "    <tr>\n",
       "      <th>5</th>\n",
       "      <td>Sample_1007_FB_IGO_14423_D_7_FB</td>\n",
       "      <td>1007</td>\n",
       "      <td>Sample_1007_IGO_14423_D_7</td>\n",
       "      <td>Sample_1007_IGO_14423_7</td>\n",
       "    </tr>\n",
       "    <tr>\n",
       "      <th>6</th>\n",
       "      <td>Sample_1003_FB_IGO_14423_D_3_FB</td>\n",
       "      <td>1003</td>\n",
       "      <td>Sample_1003_IGO_14423_D_3</td>\n",
       "      <td>Sample_1003_IGO_14423_3</td>\n",
       "    </tr>\n",
       "    <tr>\n",
       "      <th>7</th>\n",
       "      <td>Sample_1006_FB_IGO_14423_D_6_FB</td>\n",
       "      <td>1006</td>\n",
       "      <td>Sample_1006_IGO_14423_D_6</td>\n",
       "      <td>Sample_1006_IGO_14423_6</td>\n",
       "    </tr>\n",
       "  </tbody>\n",
       "</table>\n",
       "</div>"
      ],
      "text/plain": [
       "                              cite    ID                       name  \\\n",
       "0  Sample_1008_FB_IGO_14423_D_8_FB  1008  Sample_1008_IGO_14423_D_8   \n",
       "1  Sample_1004_FB_IGO_14423_D_4_FB  1004  Sample_1004_IGO_14423_D_4   \n",
       "2  Sample_1002_FB_IGO_14423_D_2_FB  1002  Sample_1002_IGO_14423_D_2   \n",
       "3  Sample_1005_FB_IGO_14423_D_5_FB  1005  Sample_1005_IGO_14423_D_5   \n",
       "4  Sample_1001_FB_IGO_14423_D_1_FB  1001  Sample_1001_IGO_14423_D_1   \n",
       "5  Sample_1007_FB_IGO_14423_D_7_FB  1007  Sample_1007_IGO_14423_D_7   \n",
       "6  Sample_1003_FB_IGO_14423_D_3_FB  1003  Sample_1003_IGO_14423_D_3   \n",
       "7  Sample_1006_FB_IGO_14423_D_6_FB  1006  Sample_1006_IGO_14423_D_6   \n",
       "\n",
       "                       dir  \n",
       "0  Sample_1008_IGO_14423_8  \n",
       "1  Sample_1004_IGO_14423_4  \n",
       "2  Sample_1002_IGO_14423_2  \n",
       "3  Sample_1005_IGO_14423_5  \n",
       "4  Sample_1001_IGO_14423_1  \n",
       "5  Sample_1007_IGO_14423_7  \n",
       "6  Sample_1003_IGO_14423_3  \n",
       "7  Sample_1006_IGO_14423_6  "
      ]
     },
     "execution_count": 19,
     "metadata": {},
     "output_type": "execute_result"
    }
   ],
   "source": [
    "input_data = data[data['project'] == '14423'].sort_values(by = ['ID'])\n",
    "meta = pd.read_csv('project_14423_meta.csv',sep ='\\t',header = None)\n",
    "meta.columns = ['patient','timepoint','time','date','sample_id','barcode','date_processed','seq_sample','ID','trial']\n",
    "meta['ID'] = meta['ID'].astype(str)\n",
    "\n",
    "base = '/data1/greenbab/users/yaon/Ravetch_scRNA/Project_14423_D/DIANA_0595'\n",
    "c_list = []\n",
    "for k in os.listdir(base):\n",
    "    if 'v1' not in k:\n",
    "        print(f'{k}_FB')\n",
    "        c_list.append(f'{k}_FB')\n",
    "\n",
    "cdf = pd.DataFrame({'cite':c_list})\n",
    "cdf['ID'] =[ i.split('_')[1] for i in cdf['cite']]\n",
    "cdf['name'] =[ i.replace('_FB','') for i in cdf['cite']]\n",
    "cdf['dir'] = [i.replace('_D','').replace('_FB','') for i in cdf['name']]\n",
    "\n",
    "input_cdf = cdf[cdf['ID'].isin(meta['ID'])]\n",
    "\n",
    "input_cdf"
   ]
  },
  {
   "cell_type": "code",
   "execution_count": 21,
   "id": "e2c0bbd5-4d3e-4ced-b823-5974e13b4301",
   "metadata": {},
   "outputs": [
    {
     "name": "stdout",
     "output_type": "stream",
     "text": [
      "1008\n",
      "1004\n",
      "1002\n",
      "1005\n",
      "1001\n",
      "1003\n",
      "1006\n"
     ]
    }
   ],
   "source": [
    "p14423_protein_list, p14423_rna_list =[] ,[] \n",
    "\n",
    "for directory, ID in zip(input_cdf['cite'], input_cdf['ID']):\n",
    "\n",
    "    ID = str(ID)\n",
    "\n",
    "    if ID != '1007':\n",
    "    \n",
    "        print(ID)\n",
    "        \n",
    "        # f = pd.read_csv(f'./{directory}/outs/filtered_feature_bc_matrix/features.tsv.gz',index_col = 0,header = None,sep = '\\t')\n",
    "        # b = pd.read_csv(f'./{directory}/outs/filtered_feature_bc_matrix/barcodes.tsv.gz', index_col =0 ,header =None)\n",
    "        # b.index.names =['index']\n",
    "        # f.index.names =['index']\n",
    "        # adt_data = ad.read_mtx(os.path.join(directory,'./outs/filtered_feature_bc_matrix/matrix.mtx.gz'))\n",
    "        # adt_data = adt_data.T\n",
    "        # adt_data.obs = b\n",
    "        # adt_data.var = f\n",
    "        # adt_data.var.columns = ['gene','data_type']\n",
    "        \n",
    "        sample_dict, time_dict = {},{}\n",
    "        \n",
    "        for a,b in zip(meta[meta['ID']== str(ID)]['barcode'], \n",
    "                       meta[meta['ID']== str(ID)]['patient'].astype(int)):\n",
    "            sample_dict[a] = str(b)\n",
    "        \n",
    "        for a,b in zip(meta[meta['ID']== str(ID)]['barcode'], \n",
    "                       meta[meta['ID']== str(ID)]['timepoint']):\n",
    "            time_dict[a] = b\n",
    "        \n",
    "        meta_dir = directory.replace('_FB','').replace('_D','')\n",
    "        \n",
    "        path = f'/data1/greenbab/users/yaon/Ravetch_scRNA/{meta_dir}/outs/'\n",
    "        adata = sc.read_10x_h5(f'{path}/filtered_feature_bc_matrix.h5')\n",
    "        # mitochondrial genes, \"MT-\" for human, \"Mt-\" for mouse\n",
    "        adata.var[\"mt\"] = adata.var_names.str.startswith(\"MT-\")\n",
    "        # ribosomal genes\n",
    "        adata.var[\"ribo\"] = adata.var_names.str.startswith((\"RPS\", \"RPL\"))\n",
    "        # hemoglobin genes\n",
    "        adata.var[\"hb\"] = adata.var_names.str.contains(\"^HB[^(P)]\")\n",
    "        sc.pp.calculate_qc_metrics(  adata, qc_vars=[\"mt\", \"ribo\", \"hb\"], inplace=True, log1p=True)\n",
    "        \n",
    "        adata.obs['log10_total'] = np.log10(adata.obs['total_counts'])\n",
    "        adata.obs['log10_n_genes_by_counts'] = np.log10(adata.obs['n_genes_by_counts'])\n",
    "        \n",
    "        demux = pd.read_csv(f'{meta_dir}_meta_v2.csv',sep = '\\t')\n",
    "        adata.obs = pd.concat([adata.obs, demux[['hash.ID']]], axis= 1) \n",
    "        \n",
    "        adata_clean = adata[(~adata.obs['hash.ID'].isna()) & (~adata.obs['hash.ID'].isin(['Negative', 'Doublet','unmapped'])) ]\n",
    "        adata_clean.obs['barcode'] = [int(i.split('-')[0].replace('HTO','')) for i in adata_clean.obs['hash.ID']]\n",
    "        adata_clean.obs['ident'] = adata_clean.obs.index\n",
    "        adata_clean.obs['10X_ID'] = ID\n",
    "        adata_clean.obs['patient'] =adata_clean.obs['barcode'].map(sample_dict)\n",
    "        adata_clean.obs['timepoint'] =adata_clean.obs['barcode'].map(time_dict)\n",
    "        \n",
    "        adata_clean = adata_clean[(~adata_clean.obs['patient'].isna())]\n",
    "        ### filter by MT \n",
    "        adata_clean = adata_clean[adata_clean.obs['pct_counts_mt']<=10]\n",
    "        \n",
    "        # ######################## cell ranger output ################\n",
    "        # adt_match = adt_data[adt_data.obs.index.isin(adata_clean.obs.index),:]\n",
    "        # obs = pd.concat([ adt_match.obs, adata_clean.obs[['patient','timepoint','10X_ID']]],axis= 1)\n",
    "        # adt_match.obs = adata_clean.obs.T[adt_match.obs.index].T[['patient','timepoint','10X_ID']]\n",
    "        # adt_match.obs['cohort'] = 14450\n",
    "        # adt_match_clean = adt_match[:,adt_match.var[adt_match.var['data_type'] == 'Antibody Capture'].index]\n",
    "        \n",
    "        # ### match RNA and protein \n",
    "        # adata_clean_match = adata_clean[adt_match_clean.obs.index,:]\n",
    "        \n",
    "        ################ CITE map ################\n",
    "        rna_barcode = [i.replace('-1','') for i in adata_clean.obs.index]\n",
    "        k = '_'.join(directory.split('_')[:-1])\n",
    "        path = f'{k}_CITE_v2'\n",
    "        f = pd.read_csv(f'./{path}/umi_count/features.tsv.gz',header = None, index_col =0 )\n",
    "        b = pd.read_csv(f'./{path}/umi_count/barcodes.tsv.gz', index_col =0 ,header =None)\n",
    "        b.index.names =['index']\n",
    "        f.index.names =['index']\n",
    "        adt_data = ad.read_mtx(os.path.join(path,'umi_count/matrix.mtx.gz')).T\n",
    "        adt_data.obs = b\n",
    "        adt_data.var = f\n",
    "        \n",
    "        adt_data = adt_data[rna_barcode,:]\n",
    "        adt_data.obs = adata_clean.obs[['patient','timepoint','ident']]\n",
    "        \n",
    "        mdata = mu.MuData({\"rna\": adata_clean, \"prot\": adt_data,})\n",
    "        mdata['rna'].var['gene'] = mdata['rna'].var.index\n",
    "        mdata['rna'].var.index = mdata['rna'].var['gene_ids']\n",
    "        mdata[\"prot\"].var.index = [i.split('-')[0] for i in mdata[\"prot\"].var.index]\n",
    "\n",
    "        mdata['rna'].obs['cohort'] = 14423 \n",
    "        mdata['prot'].obs['cohort'] = 14423 \n",
    "    \n",
    "        mdata['rna'].obs.index = mdata['rna'].obs['patient'].astype(str)+\"|\"+mdata['rna'].obs['timepoint'].astype(str)+\"|\"+mdata['rna'].obs['ident'].astype(str)\n",
    "        mdata['prot'].obs.index = mdata['prot'].obs['patient'].astype(str)+\"|\"+mdata['prot'].obs['timepoint'].astype(str)+\"|\"+mdata['prot'].obs['ident'].astype(str)\n",
    "        \n",
    "            \n",
    "        ##### list \n",
    "        p14423_rna_list.append(mdata['rna'])\n",
    "        p14423_protein_list.append(mdata['prot'])"
   ]
  },
  {
   "cell_type": "code",
   "execution_count": 23,
   "id": "94e919a7-0163-4e29-8f0e-4d0e9f42d100",
   "metadata": {},
   "outputs": [
    {
     "name": "stdout",
     "output_type": "stream",
     "text": [
      "Sample_1005_FB_IGO_14450_D_5_FB\n",
      "Sample_1006_FB_IGO_14450_D_6_FB\n",
      "Sample_1012_FB_IGO_14450_D_12_FB\n",
      "Sample_1002_FB_IGO_14450_D_2_FB\n",
      "Sample_1007_FB_IGO_14450_D_7_FB\n",
      "Sample_1009_FB_IGO_14450_D_9_FB\n",
      "Sample_1013_FB_IGO_14450_D_13_FB\n",
      "Sample_1011_FB_IGO_14450_D_11_FB\n",
      "Sample_1010_FB_IGO_14450_D_10_FB\n",
      "Sample_1014_FB_IGO_14450_D_14_FB\n",
      "Sample_1003_FB_IGO_14450_D_3_FB\n",
      "Sample_1008_FB_IGO_14450_D_8_FB\n",
      "Sample_1001_FB_IGO_14450_D_1_FB\n",
      "Sample_1004_FB_IGO_14450_D_4_FB\n"
     ]
    },
    {
     "data": {
      "text/html": [
       "<div>\n",
       "<style scoped>\n",
       "    .dataframe tbody tr th:only-of-type {\n",
       "        vertical-align: middle;\n",
       "    }\n",
       "\n",
       "    .dataframe tbody tr th {\n",
       "        vertical-align: top;\n",
       "    }\n",
       "\n",
       "    .dataframe thead th {\n",
       "        text-align: right;\n",
       "    }\n",
       "</style>\n",
       "<table border=\"1\" class=\"dataframe\">\n",
       "  <thead>\n",
       "    <tr style=\"text-align: right;\">\n",
       "      <th></th>\n",
       "      <th>cite</th>\n",
       "      <th>ID</th>\n",
       "      <th>name</th>\n",
       "      <th>dir</th>\n",
       "    </tr>\n",
       "  </thead>\n",
       "  <tbody>\n",
       "    <tr>\n",
       "      <th>2</th>\n",
       "      <td>Sample_1012_FB_IGO_14450_D_12_FB</td>\n",
       "      <td>1012</td>\n",
       "      <td>Sample_1012_IGO_14450_D_12</td>\n",
       "      <td>Sample_1012_IGO_14450_12</td>\n",
       "    </tr>\n",
       "    <tr>\n",
       "      <th>6</th>\n",
       "      <td>Sample_1013_FB_IGO_14450_D_13_FB</td>\n",
       "      <td>1013</td>\n",
       "      <td>Sample_1013_IGO_14450_D_13</td>\n",
       "      <td>Sample_1013_IGO_14450_13</td>\n",
       "    </tr>\n",
       "    <tr>\n",
       "      <th>7</th>\n",
       "      <td>Sample_1011_FB_IGO_14450_D_11_FB</td>\n",
       "      <td>1011</td>\n",
       "      <td>Sample_1011_IGO_14450_D_11</td>\n",
       "      <td>Sample_1011_IGO_14450_11</td>\n",
       "    </tr>\n",
       "    <tr>\n",
       "      <th>8</th>\n",
       "      <td>Sample_1010_FB_IGO_14450_D_10_FB</td>\n",
       "      <td>1010</td>\n",
       "      <td>Sample_1010_IGO_14450_D_10</td>\n",
       "      <td>Sample_1010_IGO_14450_10</td>\n",
       "    </tr>\n",
       "    <tr>\n",
       "      <th>9</th>\n",
       "      <td>Sample_1014_FB_IGO_14450_D_14_FB</td>\n",
       "      <td>1014</td>\n",
       "      <td>Sample_1014_IGO_14450_D_14</td>\n",
       "      <td>Sample_1014_IGO_14450_14</td>\n",
       "    </tr>\n",
       "  </tbody>\n",
       "</table>\n",
       "</div>"
      ],
      "text/plain": [
       "                               cite    ID                        name  \\\n",
       "2  Sample_1012_FB_IGO_14450_D_12_FB  1012  Sample_1012_IGO_14450_D_12   \n",
       "6  Sample_1013_FB_IGO_14450_D_13_FB  1013  Sample_1013_IGO_14450_D_13   \n",
       "7  Sample_1011_FB_IGO_14450_D_11_FB  1011  Sample_1011_IGO_14450_D_11   \n",
       "8  Sample_1010_FB_IGO_14450_D_10_FB  1010  Sample_1010_IGO_14450_D_10   \n",
       "9  Sample_1014_FB_IGO_14450_D_14_FB  1014  Sample_1014_IGO_14450_D_14   \n",
       "\n",
       "                        dir  \n",
       "2  Sample_1012_IGO_14450_12  \n",
       "6  Sample_1013_IGO_14450_13  \n",
       "7  Sample_1011_IGO_14450_11  \n",
       "8  Sample_1010_IGO_14450_10  \n",
       "9  Sample_1014_IGO_14450_14  "
      ]
     },
     "execution_count": 23,
     "metadata": {},
     "output_type": "execute_result"
    }
   ],
   "source": [
    "input_data = data[data['project'] == '14450'].sort_values(by = ['ID'])\n",
    "meta = pd.read_csv('project_14450_meta.csv',sep ='\\t',header = None)\n",
    "meta.columns = ['patient','timepoint','time','date','sample_id','barcode','date_processed','seq_sample','ID','trial']\n",
    "meta['ID'] = meta['ID'].astype(str)\n",
    "\n",
    "base =  '/data1/greenbab/users/yaon/Ravetch_scRNA/Project_14450_D/MICHELLE_0639'\n",
    "c_list = []\n",
    "for k in os.listdir(base):\n",
    "    if 'v1' not in k:\n",
    "        print(f'{k}_FB')\n",
    "        c_list.append(f'{k}_FB')\n",
    "\n",
    "cdf = pd.DataFrame({'cite':c_list})\n",
    "cdf['ID'] =[ i.split('_')[1] for i in cdf['cite']]\n",
    "cdf['name'] =[ i.replace('_FB','') for i in cdf['cite']]\n",
    "cdf['dir'] = [i.replace('_D','').replace('_FB','') for i in cdf['name']]\n",
    "\n",
    "input_cdf = cdf[cdf['ID'].isin(meta['ID'])]\n",
    "input_cdf"
   ]
  },
  {
   "cell_type": "code",
   "execution_count": 24,
   "id": "65ae0698-79c9-4a19-a6f0-7c824a015d70",
   "metadata": {},
   "outputs": [
    {
     "name": "stdout",
     "output_type": "stream",
     "text": [
      "1012\n",
      "1013\n",
      "1011\n",
      "1010\n",
      "1014\n"
     ]
    }
   ],
   "source": [
    "p14450_protein_list, p14450_rna_list =[] ,[] \n",
    "\n",
    "for directory, ID in zip(input_cdf['cite'], input_cdf['ID']):\n",
    "\n",
    "    ID = str(ID)\n",
    "    \n",
    "    print(ID)\n",
    "    \n",
    "    # f = pd.read_csv(f'./{directory}/outs/filtered_feature_bc_matrix/features.tsv.gz',index_col = 0,header = None,sep = '\\t')\n",
    "    # b = pd.read_csv(f'./{directory}/outs/filtered_feature_bc_matrix/barcodes.tsv.gz', index_col =0 ,header =None)\n",
    "    # b.index.names =['index']\n",
    "    # f.index.names =['index']\n",
    "    # adt_data = ad.read_mtx(os.path.join(directory,'./outs/filtered_feature_bc_matrix/matrix.mtx.gz'))\n",
    "    # adt_data = adt_data.T\n",
    "    # adt_data.obs = b\n",
    "    # adt_data.var = f\n",
    "    # adt_data.var.columns = ['gene','data_type']\n",
    "    \n",
    "    sample_dict, time_dict = {},{}\n",
    "    \n",
    "    for a,b in zip(meta[meta['ID']== str(ID)]['barcode'], \n",
    "                   meta[meta['ID']== str(ID)]['patient'].astype(int)):\n",
    "        sample_dict[a] = str(b)\n",
    "    \n",
    "    for a,b in zip(meta[meta['ID']== str(ID)]['barcode'], \n",
    "                   meta[meta['ID']== str(ID)]['timepoint']):\n",
    "        time_dict[a] = b\n",
    "    \n",
    "    meta_dir = directory.replace('_FB','').replace('_D','')\n",
    "    \n",
    "    path = f'/data1/greenbab/users/yaon/Ravetch_scRNA/{meta_dir}/outs/'\n",
    "    adata = sc.read_10x_h5(f'{path}/filtered_feature_bc_matrix.h5')\n",
    "    # mitochondrial genes, \"MT-\" for human, \"Mt-\" for mouse\n",
    "    adata.var[\"mt\"] = adata.var_names.str.startswith(\"MT-\")\n",
    "    # ribosomal genes\n",
    "    adata.var[\"ribo\"] = adata.var_names.str.startswith((\"RPS\", \"RPL\"))\n",
    "    # hemoglobin genes\n",
    "    adata.var[\"hb\"] = adata.var_names.str.contains(\"^HB[^(P)]\")\n",
    "    sc.pp.calculate_qc_metrics(  adata, qc_vars=[\"mt\", \"ribo\", \"hb\"], inplace=True, log1p=True)\n",
    "    \n",
    "    adata.obs['log10_total'] = np.log10(adata.obs['total_counts'])\n",
    "    adata.obs['log10_n_genes_by_counts'] = np.log10(adata.obs['n_genes_by_counts'])\n",
    "    \n",
    "    demux = pd.read_csv(f'{meta_dir}_meta_v2.csv',sep = '\\t')\n",
    "    adata.obs = pd.concat([adata.obs, demux[['hash.ID']]], axis= 1) \n",
    "    \n",
    "    adata_clean = adata[(~adata.obs['hash.ID'].isna()) & (~adata.obs['hash.ID'].isin(['Negative', 'Doublet','unmapped'])) ]\n",
    "    adata_clean.obs['barcode'] = [int(i.split('-')[0].replace('HTO','')) for i in adata_clean.obs['hash.ID']]\n",
    "    adata_clean.obs['ident'] = adata_clean.obs.index\n",
    "    adata_clean.obs['10X_ID'] = ID\n",
    "    adata_clean.obs['patient'] =adata_clean.obs['barcode'].map(sample_dict)\n",
    "    adata_clean.obs['timepoint'] =adata_clean.obs['barcode'].map(time_dict)\n",
    "    \n",
    "    adata_clean = adata_clean[(~adata_clean.obs['patient'].isna())]\n",
    "    ### filter by MT \n",
    "    adata_clean = adata_clean[adata_clean.obs['pct_counts_mt']<=10]\n",
    "    \n",
    "    # ######################## cell ranger output ################\n",
    "    # adt_match = adt_data[adt_data.obs.index.isin(adata_clean.obs.index),:]\n",
    "    # obs = pd.concat([ adt_match.obs, adata_clean.obs[['patient','timepoint','10X_ID']]],axis= 1)\n",
    "    # adt_match.obs = adata_clean.obs.T[adt_match.obs.index].T[['patient','timepoint','10X_ID']]\n",
    "    # adt_match.obs['cohort'] = 14450\n",
    "    # adt_match_clean = adt_match[:,adt_match.var[adt_match.var['data_type'] == 'Antibody Capture'].index]\n",
    "    \n",
    "    # ### match RNA and protein \n",
    "    # adata_clean_match = adata_clean[adt_match_clean.obs.index,:]\n",
    "    \n",
    "    ################ CITE map ################\n",
    "    rna_barcode = [i.replace('-1','') for i in adata_clean.obs.index]\n",
    "    k = '_'.join(directory.split('_')[:-1])\n",
    "    path = f'{k}_CITE_v2'\n",
    "    f = pd.read_csv(f'./{path}/umi_count/features.tsv.gz',header = None, index_col =0 )\n",
    "    b = pd.read_csv(f'./{path}/umi_count/barcodes.tsv.gz', index_col =0 ,header =None)\n",
    "    b.index.names =['index']\n",
    "    f.index.names =['index']\n",
    "    adt_data = ad.read_mtx(os.path.join(path,'umi_count/matrix.mtx.gz')).T\n",
    "    adt_data.obs = b\n",
    "    adt_data.var = f\n",
    "    \n",
    "    adt_data = adt_data[rna_barcode,:]\n",
    "    adt_data.obs = adata_clean.obs[['patient','timepoint','ident']]\n",
    "    \n",
    "    mdata = mu.MuData({\"rna\": adata_clean, \"prot\": adt_data,})\n",
    "    mdata['rna'].var['gene'] = mdata['rna'].var.index\n",
    "    mdata['rna'].var.index = mdata['rna'].var['gene_ids']\n",
    "    mdata[\"prot\"].var.index = [i.split('-')[0] for i in mdata[\"prot\"].var.index]\n",
    "\n",
    "    mdata['rna'].obs['cohort'] = 14450 \n",
    "    mdata['prot'].obs['cohort'] = 14450 \n",
    "\n",
    "    mdata['rna'].obs.index = mdata['rna'].obs['patient'].astype(str)+\"|\"+mdata['rna'].obs['timepoint'].astype(str)+\"|\"+mdata['rna'].obs['ident'].astype(str)\n",
    "    mdata['prot'].obs.index = mdata['prot'].obs['patient'].astype(str)+\"|\"+mdata['prot'].obs['timepoint'].astype(str)+\"|\"+mdata['prot'].obs['ident'].astype(str)\n",
    "    \n",
    "    ##### list \n",
    "    p14450_rna_list.append(mdata['rna'])\n",
    "    p14450_protein_list.append(mdata['prot'])"
   ]
  },
  {
   "cell_type": "code",
   "execution_count": 25,
   "id": "8ab97434-5b76-43f7-b38b-c9c1c14fddab",
   "metadata": {},
   "outputs": [
    {
     "name": "stdout",
     "output_type": "stream",
     "text": [
      "Sample_1002_FB_IGO_14448_D_2_FB\n",
      "Sample_1008_FB_IGO_14448_D_3_FB\n",
      "Sample_1014_FB_IGO_14448_D_8_FB\n",
      "Sample_1013_FB_IGO_14448_D_7_FB\n",
      "Sample_1010_FB_IGO_14448_D_4_FB\n",
      "Sample_1011_FB_IGO_14448_D_5_FB\n",
      "Sample_1012_FB_IGO_14448_D_6_FB\n",
      "Sample_1001_FB_IGO_14448_D_1_FB\n"
     ]
    },
    {
     "data": {
      "text/html": [
       "<div>\n",
       "<style scoped>\n",
       "    .dataframe tbody tr th:only-of-type {\n",
       "        vertical-align: middle;\n",
       "    }\n",
       "\n",
       "    .dataframe tbody tr th {\n",
       "        vertical-align: top;\n",
       "    }\n",
       "\n",
       "    .dataframe thead th {\n",
       "        text-align: right;\n",
       "    }\n",
       "</style>\n",
       "<table border=\"1\" class=\"dataframe\">\n",
       "  <thead>\n",
       "    <tr style=\"text-align: right;\">\n",
       "      <th></th>\n",
       "      <th>cite</th>\n",
       "      <th>ID</th>\n",
       "      <th>name</th>\n",
       "      <th>dir</th>\n",
       "    </tr>\n",
       "  </thead>\n",
       "  <tbody>\n",
       "    <tr>\n",
       "      <th>0</th>\n",
       "      <td>Sample_1002_FB_IGO_14448_D_2_FB</td>\n",
       "      <td>1002</td>\n",
       "      <td>Sample_1002_IGO_14448_D_2</td>\n",
       "      <td>Sample_1002_IGO_14448_2</td>\n",
       "    </tr>\n",
       "    <tr>\n",
       "      <th>1</th>\n",
       "      <td>Sample_1008_FB_IGO_14448_D_3_FB</td>\n",
       "      <td>1008</td>\n",
       "      <td>Sample_1008_IGO_14448_D_3</td>\n",
       "      <td>Sample_1008_IGO_14448_3</td>\n",
       "    </tr>\n",
       "    <tr>\n",
       "      <th>7</th>\n",
       "      <td>Sample_1001_FB_IGO_14448_D_1_FB</td>\n",
       "      <td>1001</td>\n",
       "      <td>Sample_1001_IGO_14448_D_1</td>\n",
       "      <td>Sample_1001_IGO_14448_1</td>\n",
       "    </tr>\n",
       "  </tbody>\n",
       "</table>\n",
       "</div>"
      ],
      "text/plain": [
       "                              cite    ID                       name  \\\n",
       "0  Sample_1002_FB_IGO_14448_D_2_FB  1002  Sample_1002_IGO_14448_D_2   \n",
       "1  Sample_1008_FB_IGO_14448_D_3_FB  1008  Sample_1008_IGO_14448_D_3   \n",
       "7  Sample_1001_FB_IGO_14448_D_1_FB  1001  Sample_1001_IGO_14448_D_1   \n",
       "\n",
       "                       dir  \n",
       "0  Sample_1002_IGO_14448_2  \n",
       "1  Sample_1008_IGO_14448_3  \n",
       "7  Sample_1001_IGO_14448_1  "
      ]
     },
     "execution_count": 25,
     "metadata": {},
     "output_type": "execute_result"
    }
   ],
   "source": [
    "input_data = data[data['project'] == '14448'].sort_values(by = ['ID'])\n",
    "meta = pd.read_csv('project_14448_meta.csv',sep ='\\t',header = None)\n",
    "meta.columns = ['patient','timepoint','time','date','sample_id','barcode','date_processed','seq_sample','ID','trial']\n",
    "meta['ID'] = meta['ID'].astype(str)\n",
    "\n",
    "base =  '/data1/greenbab/users/yaon/Ravetch_scRNA/Project_14448_D/MICHELLE_0638'\n",
    "c_list = []\n",
    "for k in os.listdir(base):\n",
    "    if 'v1' not in k:\n",
    "        print(f'{k}_FB')\n",
    "        c_list.append(f'{k}_FB')\n",
    "\n",
    "cdf = pd.DataFrame({'cite':c_list})\n",
    "cdf['ID'] =[ i.split('_')[1] for i in cdf['cite']]\n",
    "cdf['name'] =[ i.replace('_FB','') for i in cdf['cite']]\n",
    "cdf['dir'] = [i.replace('_D','').replace('_FB','') for i in cdf['name']]\n",
    "\n",
    "input_cdf = cdf[cdf['ID'].isin(meta['ID'])]\n",
    "input_cdf"
   ]
  },
  {
   "cell_type": "code",
   "execution_count": 26,
   "id": "e4adc6d4-33db-4741-89f9-655a83092234",
   "metadata": {},
   "outputs": [
    {
     "name": "stdout",
     "output_type": "stream",
     "text": [
      "1002\n",
      "1008\n",
      "1001\n"
     ]
    }
   ],
   "source": [
    "p14448_protein_list, p14448_rna_list =[] ,[] \n",
    "\n",
    "for directory, ID in zip(input_cdf['cite'], input_cdf['ID']):\n",
    "\n",
    "    ID = str(ID)\n",
    "    \n",
    "    print(ID)\n",
    "    \n",
    "    # f = pd.read_csv(f'./{directory}/outs/filtered_feature_bc_matrix/features.tsv.gz',index_col = 0,header = None,sep = '\\t')\n",
    "    # b = pd.read_csv(f'./{directory}/outs/filtered_feature_bc_matrix/barcodes.tsv.gz', index_col =0 ,header =None)\n",
    "    # b.index.names =['index']\n",
    "    # f.index.names =['index']\n",
    "    # adt_data = ad.read_mtx(os.path.join(directory,'./outs/filtered_feature_bc_matrix/matrix.mtx.gz'))\n",
    "    # adt_data = adt_data.T\n",
    "    # adt_data.obs = b\n",
    "    # adt_data.var = f\n",
    "    # adt_data.var.columns = ['gene','data_type']\n",
    "    \n",
    "    sample_dict, time_dict = {},{}\n",
    "    \n",
    "    for a,b in zip(meta[meta['ID']== str(ID)]['barcode'], \n",
    "                   meta[meta['ID']== str(ID)]['patient'].astype(int)):\n",
    "        sample_dict[a] = str(b)\n",
    "    \n",
    "    for a,b in zip(meta[meta['ID']== str(ID)]['barcode'], \n",
    "                   meta[meta['ID']== str(ID)]['timepoint']):\n",
    "        time_dict[a] = b\n",
    "    \n",
    "    meta_dir = directory.replace('_FB','').replace('_D','')\n",
    "    \n",
    "    path = f'/data1/greenbab/users/yaon/Ravetch_scRNA/{meta_dir}/outs/'\n",
    "    adata = sc.read_10x_h5(f'{path}/filtered_feature_bc_matrix.h5')\n",
    "    # mitochondrial genes, \"MT-\" for human, \"Mt-\" for mouse\n",
    "    adata.var[\"mt\"] = adata.var_names.str.startswith(\"MT-\")\n",
    "    # ribosomal genes\n",
    "    adata.var[\"ribo\"] = adata.var_names.str.startswith((\"RPS\", \"RPL\"))\n",
    "    # hemoglobin genes\n",
    "    adata.var[\"hb\"] = adata.var_names.str.contains(\"^HB[^(P)]\")\n",
    "    sc.pp.calculate_qc_metrics(  adata, qc_vars=[\"mt\", \"ribo\", \"hb\"], inplace=True, log1p=True)\n",
    "    \n",
    "    adata.obs['log10_total'] = np.log10(adata.obs['total_counts'])\n",
    "    adata.obs['log10_n_genes_by_counts'] = np.log10(adata.obs['n_genes_by_counts'])\n",
    "    \n",
    "    demux = pd.read_csv(f'{meta_dir}_meta_v2.csv',sep = '\\t')\n",
    "    adata.obs = pd.concat([adata.obs, demux[['hash.ID']]], axis= 1) \n",
    "    \n",
    "    adata_clean = adata[(~adata.obs['hash.ID'].isna()) & (~adata.obs['hash.ID'].isin(['Negative', 'Doublet','unmapped'])) ]\n",
    "    adata_clean.obs['barcode'] = [int(i.split('-')[0].replace('HTO','')) for i in adata_clean.obs['hash.ID']]\n",
    "    adata_clean.obs['ident'] = adata_clean.obs.index\n",
    "    adata_clean.obs['10X_ID'] = ID\n",
    "    adata_clean.obs['patient'] =adata_clean.obs['barcode'].map(sample_dict)\n",
    "    adata_clean.obs['timepoint'] =adata_clean.obs['barcode'].map(time_dict)\n",
    "    \n",
    "    adata_clean = adata_clean[(~adata_clean.obs['patient'].isna())]\n",
    "    ### filter by MT \n",
    "    adata_clean = adata_clean[adata_clean.obs['pct_counts_mt']<=10]\n",
    "    \n",
    "    # ######################## cell ranger output ################\n",
    "    # adt_match = adt_data[adt_data.obs.index.isin(adata_clean.obs.index),:]\n",
    "    # obs = pd.concat([ adt_match.obs, adata_clean.obs[['patient','timepoint','10X_ID']]],axis= 1)\n",
    "    # adt_match.obs = adata_clean.obs.T[adt_match.obs.index].T[['patient','timepoint','10X_ID']]\n",
    "    # adt_match.obs['cohort'] = 14450\n",
    "    # adt_match_clean = adt_match[:,adt_match.var[adt_match.var['data_type'] == 'Antibody Capture'].index]\n",
    "    \n",
    "    # ### match RNA and protein \n",
    "    # adata_clean_match = adata_clean[adt_match_clean.obs.index,:]\n",
    "    \n",
    "    ################ CITE map ################\n",
    "    rna_barcode = [i.replace('-1','') for i in adata_clean.obs.index]\n",
    "    k = '_'.join(directory.split('_')[:-1])\n",
    "    path = f'{k}_CITE_v2'\n",
    "    f = pd.read_csv(f'./{path}/umi_count/features.tsv.gz',header = None, index_col =0 )\n",
    "    b = pd.read_csv(f'./{path}/umi_count/barcodes.tsv.gz', index_col =0 ,header =None)\n",
    "    b.index.names =['index']\n",
    "    f.index.names =['index']\n",
    "    adt_data = ad.read_mtx(os.path.join(path,'umi_count/matrix.mtx.gz')).T\n",
    "    adt_data.obs = b\n",
    "    adt_data.var = f\n",
    "    \n",
    "    adt_data = adt_data[rna_barcode,:]\n",
    "    adt_data.obs = adata_clean.obs[['patient','timepoint','ident']]\n",
    "    \n",
    "    mdata = mu.MuData({\"rna\": adata_clean, \"prot\": adt_data,})\n",
    "    mdata['rna'].var['gene'] = mdata['rna'].var.index\n",
    "    mdata['rna'].var.index = mdata['rna'].var['gene_ids']\n",
    "    mdata[\"prot\"].var.index = [i.split('-')[0] for i in mdata[\"prot\"].var.index]\n",
    "\n",
    "    mdata['rna'].obs['cohort'] = 14448 \n",
    "    mdata['prot'].obs['cohort'] = 14448 \n",
    "\n",
    "    mdata['rna'].obs.index = mdata['rna'].obs['patient'].astype(str)+\"|\"+mdata['rna'].obs['timepoint'].astype(str)+\"|\"+mdata['rna'].obs['ident'].astype(str)\n",
    "    mdata['prot'].obs.index = mdata['prot'].obs['patient'].astype(str)+\"|\"+mdata['prot'].obs['timepoint'].astype(str)+\"|\"+mdata['prot'].obs['ident'].astype(str)\n",
    "    \n",
    "    ##### list \n",
    "    p14448_rna_list.append(mdata['rna'])\n",
    "    p14448_protein_list.append(mdata['prot'])"
   ]
  },
  {
   "cell_type": "markdown",
   "id": "e96e625c-d170-44db-b937-4c00734732aa",
   "metadata": {},
   "source": [
    "## Combine "
   ]
  },
  {
   "cell_type": "code",
   "execution_count": 27,
   "id": "4d44cd8f-0660-4fca-8109-ad71b9593fcd",
   "metadata": {},
   "outputs": [],
   "source": [
    "rna1 = ad.concat(p14423_rna_list)\n",
    "rna2 = ad.concat(p14450_rna_list)\n",
    "rna3 = ad.concat(p14448_rna_list)\n",
    "\n",
    "prot1 = ad.concat(p14423_protein_list)\n",
    "prot2 = ad.concat(p14450_protein_list)\n",
    "prot3 = ad.concat(p14448_protein_list)"
   ]
  },
  {
   "cell_type": "code",
   "execution_count": 30,
   "id": "76650cf8-ef4a-48ca-856c-e57e8e06bb45",
   "metadata": {},
   "outputs": [],
   "source": [
    "rna_bind = ad.concat([rna1, rna2, rna3])\n",
    "prot_bind = ad.concat([prot1, prot2, prot3])\n",
    "\n",
    "rna_bind.var = adata_clean.var[['feature_types','genome','gene']].copy()"
   ]
  },
  {
   "cell_type": "code",
   "execution_count": 38,
   "id": "0e2e2c1c-d015-4c71-9c2f-b8a7c6ff00b3",
   "metadata": {},
   "outputs": [],
   "source": [
    "mdata = mu.MuData({\"rna\": rna_bind, \"prot\": prot_bind,})\n",
    "\n",
    "sc.pp.calculate_qc_metrics(mdata[\"rna\"], inplace=True, percent_top=None)\n",
    "sc.pp.calculate_qc_metrics(mdata[\"prot\"], inplace=True, percent_top=None)\n",
    "\n",
    "mdata['rna'].layers[\"counts\"] = mdata['rna'].X.copy()\n",
    "mdata['prot'].layers[\"counts\"] = mdata['prot'].X.copy()"
   ]
  },
  {
   "cell_type": "markdown",
   "id": "5707458e-b957-481b-9230-f97496cfa0d3",
   "metadata": {},
   "source": [
    "## Filter by RNA  "
   ]
  },
  {
   "cell_type": "code",
   "execution_count": 82,
   "id": "ebebcf69-8102-4e1d-a0c3-f4bad5353407",
   "metadata": {},
   "outputs": [],
   "source": [
    "mdata_clean = mdata[mdata['rna'].obs['log10_n_genes_by_counts']>=2.75]"
   ]
  },
  {
   "cell_type": "code",
   "execution_count": 83,
   "id": "c8c3caa0-e373-4c33-85f5-fd7759e82bc8",
   "metadata": {},
   "outputs": [],
   "source": [
    "sc.pp.calculate_qc_metrics(mdata_clean[\"rna\"], inplace=True, percent_top=None)\n",
    "sc.pp.calculate_qc_metrics(mdata_clean[\"prot\"], inplace=True, percent_top=None)\n",
    "\n",
    "### saved layers for raw counts \n",
    "mdata_clean['rna'].layers[\"counts\"] = mdata_clean['rna'].X.copy()\n",
    "mdata_clean['prot'].layers[\"counts\"] = mdata_clean['prot'].X.copy()"
   ]
  },
  {
   "cell_type": "code",
   "execution_count": 84,
   "id": "3c13382e-a74a-4d14-9417-f3ed127648fd",
   "metadata": {},
   "outputs": [],
   "source": [
    "### RNA norm\n",
    "sc.pp.normalize_total(mdata_clean['rna'], target_sum=1e4)\n",
    "sc.pp.log1p(mdata_clean['rna'], base = 2) ### log2 normalization \n",
    "\n",
    "### RNA clusters\n",
    "sc.pp.highly_variable_genes(mdata_clean['rna'], n_top_genes = 4000) \n",
    "sc.tl.pca(mdata_clean['rna'], n_comps=30)\n",
    "sc.pp.neighbors(mdata_clean['rna'], n_neighbors=50)  \n",
    "sc.tl.umap(mdata_clean[\"rna\"])\n",
    "sc.tl.leiden(mdata_clean[\"rna\"], resolution = 2,)"
   ]
  },
  {
   "cell_type": "code",
   "execution_count": 97,
   "id": "409a032f-da49-4ec7-905b-4847f5e2b820",
   "metadata": {},
   "outputs": [],
   "source": [
    "mdata_clean = mdata_clean.copy()"
   ]
  },
  {
   "cell_type": "code",
   "execution_count": 100,
   "id": "621552bd-a329-44b3-b349-64a9863ab577",
   "metadata": {},
   "outputs": [],
   "source": [
    "mdata_clean_v2 = mdata_clean[~mdata_clean['rna'].obs['leiden'].isin(['13','23'])].copy()"
   ]
  },
  {
   "cell_type": "code",
   "execution_count": 103,
   "id": "6fbba1da-e45e-4002-9a9d-21a6d4057e0c",
   "metadata": {},
   "outputs": [],
   "source": [
    "mdata_clean_v2.write(\"combine_v1.h5mu\")"
   ]
  },
  {
   "cell_type": "code",
   "execution_count": 105,
   "id": "e1a5bea3-e4a3-47c3-877e-177993bc134c",
   "metadata": {},
   "outputs": [
    {
     "name": "stdout",
     "output_type": "stream",
     "text": [
      "WARNING: adata.X seems to be already log-transformed.\n"
     ]
    }
   ],
   "source": [
    "### renormalize \n",
    "mdata_clean_v2['rna'].X = mdata_clean_v2['rna'].layers[\"counts\"].copy()\n",
    "\n",
    "### RNA norm\n",
    "sc.pp.normalize_total(mdata_clean_v2['rna'], target_sum=1e4)\n",
    "sc.pp.log1p(mdata_clean_v2['rna'], base = 2) ### log2 normalization \n",
    "\n",
    "### RNA clusters\n",
    "sc.pp.highly_variable_genes(mdata_clean_v2['rna'], n_top_genes = 4000) \n",
    "sc.tl.pca(mdata_clean_v2['rna'], n_comps=30)\n",
    "sc.pp.neighbors(mdata_clean_v2['rna'], n_neighbors=50)  \n",
    "sc.tl.umap(mdata_clean_v2[\"rna\"])\n",
    "sc.tl.leiden(mdata_clean_v2[\"rna\"], resolution = 2,)"
   ]
  },
  {
   "cell_type": "code",
   "execution_count": 112,
   "id": "5157340c-bbc6-4243-98c9-9d572f2ac0c9",
   "metadata": {},
   "outputs": [],
   "source": [
    "mdata_clean_v2.write(\"combine_v1.h5mu\")"
   ]
  },
  {
   "cell_type": "markdown",
   "id": "25b538b2-3679-4281-b3e9-b553c2cd08ce",
   "metadata": {},
   "source": [
    "## Harmony "
   ]
  },
  {
   "cell_type": "code",
   "execution_count": 150,
   "id": "72949d2e-b2a2-4871-a84f-5430a0a25d31",
   "metadata": {},
   "outputs": [
    {
     "name": "stderr",
     "output_type": "stream",
     "text": [
      "2024-11-28 12:37:05,399 - harmonypy - INFO - Computing initial centroids with sklearn.KMeans...\n",
      "2024-11-28 12:37:22,473 - harmonypy - INFO - sklearn.KMeans initialization complete.\n",
      "2024-11-28 12:37:22,756 - harmonypy - INFO - Iteration 1 of 10\n",
      "2024-11-28 12:37:43,392 - harmonypy - INFO - Iteration 2 of 10\n",
      "2024-11-28 12:38:04,540 - harmonypy - INFO - Converged after 2 iterations\n"
     ]
    }
   ],
   "source": [
    "import scanpy.external as sce\n",
    "sce.pp.harmony_integrate(mdata_clean_v2['prot'], 'cohort')"
   ]
  },
  {
   "cell_type": "markdown",
   "id": "fbb3dc38-c139-477f-8a22-d0f84dd59595",
   "metadata": {},
   "source": [
    "## Cell type "
   ]
  },
  {
   "cell_type": "code",
   "execution_count": 167,
   "id": "15e48e92-ce71-4663-8b2d-23365f9f5b27",
   "metadata": {},
   "outputs": [],
   "source": [
    "mdata_clean_v2['rna'].var.index = mdata_clean_v2['rna'].var['gene']\n",
    "sc.tl.leiden(mdata_clean_v2[\"rna\"], resolution = 0.4, key_added = 'broad')\n",
    "adata = mdata_clean_v2['rna'].copy()"
   ]
  },
  {
   "cell_type": "code",
   "execution_count": 185,
   "id": "914a5949-163f-4d94-bac9-4c64bdab7c08",
   "metadata": {},
   "outputs": [],
   "source": [
    "lymph = adata[~adata.obs['broad'].isin(['5','6','7'])]\n",
    "B = adata[adata.obs['broad'].isin(['5'])]\n",
    "mono = adata[adata.obs['broad'].isin(['7'])]\n",
    "other = adata[adata.obs['broad'].isin(['6'])]"
   ]
  },
  {
   "cell_type": "code",
   "execution_count": 182,
   "id": "77ba6ab7-9f46-4fd3-be06-81b4448cc6ef",
   "metadata": {
    "scrolled": true
   },
   "outputs": [
    {
     "data": {
      "text/plain": [
       "<7802x38606 sparse matrix of type '<class 'numpy.float32'>'\n",
       "\twith 14451827 stored elements in Compressed Sparse Row format>"
      ]
     },
     "execution_count": 182,
     "metadata": {},
     "output_type": "execute_result"
    }
   ],
   "source": [
    "sc.pp.highly_variable_genes(B, n_top_genes = 4000) \n",
    "sc.tl.pca(B, n_comps=30)\n",
    "sc.pp.neighbors(B, n_neighbors=30)  \n",
    "sc.tl.leiden(B, key_added=\"leiden\")\n",
    "sc.tl.umap(B)"
   ]
  },
  {
   "cell_type": "code",
   "execution_count": 187,
   "id": "75564394-5423-4d69-82e2-bba5442e371d",
   "metadata": {},
   "outputs": [],
   "source": [
    "from scipy.sparse import hstack, vstack\n",
    "import scanpy.external as sce\n",
    "from sklearn.neighbors import NearestNeighbors\n",
    "def knn_run(filter_cart_count_v2, gene_list, indices = []):\n",
    "    \n",
    "    if len(indices) == 0 :\n",
    "    \n",
    "        nbrs = NearestNeighbors(n_neighbors=100, algorithm='ball_tree', n_jobs =-1).fit(filter_cart_count_v2.obsm['X_pca'])\n",
    "        distances, indices = nbrs.kneighbors(filter_cart_count_v2.obsm['X_pca'])\n",
    "    \n",
    "    else:\n",
    "        indices = indices.copy()\n",
    "        \n",
    "    gene_list = np.unique( gene_list)\n",
    "\n",
    "    df_list = []\n",
    "    for i in gene_list:\n",
    "        #print(i)\n",
    "        df_list.append(pd.DataFrame(filter_cart_count_v2.X[:,np.where(filter_cart_count_v2.var.index == i)[0]].todense()[indices.reshape(-1)].reshape(-1,100).mean(axis=1), \n",
    "                                    index = filter_cart_count_v2.obs.index))\n",
    "\n",
    "    df = pd.DataFrame(pd.concat(df_list, axis = 1))\n",
    "    df.columns = gene_list\n",
    "    df = df.add_prefix(\"knn\")\n",
    "\n",
    "    for f in df.columns:\n",
    "        filter_cart_count_v2.obs[f] = df[f]\n",
    "        \n",
    "    return indices, df, filter_cart_count_v2\n",
    "\n",
    "_,_, lymph = knn_run(lymph,['CD3D','CD3E','CD3G','CD8A','CD4'] )"
   ]
  },
  {
   "cell_type": "code",
   "execution_count": 195,
   "id": "51d45a37-03ec-4d1e-9060-28f4eac7644e",
   "metadata": {},
   "outputs": [],
   "source": [
    "NK = lymph[lymph.obs['knnCD3E']<2]\n",
    "Tcell = lymph[lymph.obs['knnCD3E']>=2]"
   ]
  },
  {
   "cell_type": "code",
   "execution_count": 196,
   "id": "dfe75d6c-f30d-4509-8870-80d8489439e2",
   "metadata": {},
   "outputs": [],
   "source": [
    "sc.pp.highly_variable_genes(Tcell, n_top_genes = 4000) \n",
    "sc.tl.pca(Tcell, n_comps=30)\n",
    "_,_, Tcell = knn_run(Tcell,['CD8A','CD4'] )"
   ]
  },
  {
   "cell_type": "code",
   "execution_count": 201,
   "id": "f9e56d96-7996-4bd0-a8df-8f20f3637246",
   "metadata": {},
   "outputs": [
    {
     "data": {
      "image/png": "[encoded data removed]",
      "text/plain": [
       "<Figure size 320x320 with 1 Axes>"
      ]
     },
     "metadata": {
      "image/png": {
       "height": 305,
       "width": 328
      }
     },
     "output_type": "display_data"
    }
   ],
   "source": [
    "#sns.scatterplot(data = Tcell.obs,x = 'knnCD8A', y = 'knnCD4', )\n",
    "sns.kdeplot(data = Tcell.obs,x = 'knnCD8A', y = 'knnCD4', )\n",
    "plt.axvline(x = 1,)\n",
    "plt.axvline(x = 1.2,)\n",
    "plt.axhline(y = 0.5,)\n",
    "plt.axhline(y = 0.4,)\n",
    "plt.axhline(y = 0.3,)\n",
    "plt.show()"
   ]
  },
  {
   "cell_type": "code",
   "execution_count": 202,
   "id": "e5719159-cb16-4af9-9fee-a93a9860bfe2",
   "metadata": {},
   "outputs": [],
   "source": [
    "CD8 = Tcell[(Tcell.obs['knnCD8A']>1.1)*(Tcell.obs['knnCD4']<=0.35)]\n",
    "CD4 = Tcell[(Tcell.obs['knnCD8A']<1.1)*(Tcell.obs['knnCD4']>0.35)]"
   ]
  },
  {
   "cell_type": "code",
   "execution_count": 203,
   "id": "1bb35ad6-f731-4268-8182-6496d8442683",
   "metadata": {},
   "outputs": [],
   "source": [
    "sc.pp.highly_variable_genes(mono, n_top_genes = 4000) \n",
    "sc.tl.pca(mono, n_comps=30)\n",
    "sc.pp.neighbors(mono, n_neighbors=30)  \n",
    "sc.tl.leiden(mono, key_added=\"leiden\")\n",
    "sc.tl.umap(mono)"
   ]
  },
  {
   "cell_type": "code",
   "execution_count": 206,
   "id": "4234dbda-8c91-4b25-a304-95e2397a68aa",
   "metadata": {},
   "outputs": [],
   "source": [
    "cd16_mono = mono[mono.obs['leiden'].isin(['7','8'])]\n",
    "dc = mono[mono.obs['leiden'].isin(['0'])]\n",
    "cd14_mono = mono[~mono.obs['leiden'].isin(['0','7','8'])]"
   ]
  },
  {
   "cell_type": "code",
   "execution_count": 210,
   "id": "0304fe1d-fead-4a12-b200-508972512dc9",
   "metadata": {},
   "outputs": [],
   "source": [
    "adata.obs['celltype'] = 'Others'\n",
    "for df, name in zip([CD8, CD4, cd16_mono, cd14_mono, dc, B, NK], ['CD8+ T','CD4+ T','CD16+ monocyte','CD14+ monocyte','DC','B cell','NK cells']):\n",
    "    adata.obs.loc[adata.obs.index.isin(df.obs.index),'celltype'] = name"
   ]
  },
  {
   "cell_type": "markdown",
   "id": "d7eaf061-0ee8-4af8-95ea-3d35e48e7192",
   "metadata": {},
   "source": [
    "## Filter V3 remove unclassified cells"
   ]
  },
  {
   "cell_type": "code",
   "execution_count": 227,
   "id": "3413deca-b421-4397-ba50-f5bbd1522fbf",
   "metadata": {},
   "outputs": [],
   "source": [
    "adata_final = adata[adata.obs['celltype']!='Others'].copy()\n",
    "adata_final.write_h5ad('rna_1128.h5ad')\n",
    "adata_final.obs.to_csv('rna_obs.csv',sep = '\\t',)"
   ]
  },
  {
   "cell_type": "markdown",
   "id": "8fba964e-bbc9-432c-8147-2d1542d1c07a",
   "metadata": {},
   "source": [
    "## Figure V4 - Harmonize within cell types "
   ]
  },
  {
   "cell_type": "code",
   "execution_count": 306,
   "id": "09659900-a27e-40ce-b602-1249973f3450",
   "metadata": {},
   "outputs": [],
   "source": [
    "sc.pp.highly_variable_genes(CD8, n_top_genes = 4000) \n",
    "CD8.var.loc[CD8.var.gene.isin(['XIST']),'highly_variable'] = False\n",
    "sc.tl.pca(CD8, n_comps=30)\n",
    "\n",
    "sc.pp.highly_variable_genes(CD4, n_top_genes = 4000) \n",
    "CD4.var.loc[CD4.var.gene.isin(['XIST']),'highly_variable'] = False\n",
    "sc.tl.pca(CD4, n_comps=30)"
   ]
  },
  {
   "cell_type": "code",
   "execution_count": 307,
   "id": "c13c329c-d913-4469-9df6-0ddd6c54012f",
   "metadata": {},
   "outputs": [
    {
     "name": "stderr",
     "output_type": "stream",
     "text": [
      "2024-11-28 13:51:37,794 - harmonypy - INFO - Computing initial centroids with sklearn.KMeans...\n",
      "2024-11-28 13:51:46,566 - harmonypy - INFO - sklearn.KMeans initialization complete.\n",
      "2024-11-28 13:51:46,750 - harmonypy - INFO - Iteration 1 of 10\n",
      "2024-11-28 13:51:58,418 - harmonypy - INFO - Iteration 2 of 10\n",
      "2024-11-28 13:52:09,765 - harmonypy - INFO - Iteration 3 of 10\n",
      "2024-11-28 13:52:20,718 - harmonypy - INFO - Converged after 3 iterations\n",
      "2024-11-28 13:52:20,733 - harmonypy - INFO - Computing initial centroids with sklearn.KMeans...\n",
      "2024-11-28 13:52:23,441 - harmonypy - INFO - sklearn.KMeans initialization complete.\n",
      "2024-11-28 13:52:23,466 - harmonypy - INFO - Iteration 1 of 10\n",
      "2024-11-28 13:52:24,979 - harmonypy - INFO - Iteration 2 of 10\n",
      "2024-11-28 13:52:26,510 - harmonypy - INFO - Iteration 3 of 10\n",
      "2024-11-28 13:52:28,031 - harmonypy - INFO - Iteration 4 of 10\n",
      "2024-11-28 13:52:29,562 - harmonypy - INFO - Converged after 4 iterations\n"
     ]
    }
   ],
   "source": [
    "import scanpy.external as sce\n",
    "sce.pp.harmony_integrate(CD4, 'patient')\n",
    "sce.pp.harmony_integrate(CD8, 'patient')"
   ]
  },
  {
   "cell_type": "code",
   "execution_count": 309,
   "id": "3786c077-aa09-421e-8e0f-aa0275df13b4",
   "metadata": {},
   "outputs": [],
   "source": [
    "sc.pp.neighbors(CD4, n_pcs=30, use_rep=\"X_pca_harmony\")\n",
    "sc.tl.umap(CD4)\n",
    "\n",
    "sc.pp.neighbors(CD8, n_pcs=30, use_rep=\"X_pca_harmony\")\n",
    "sc.tl.umap(CD8)"
   ]
  },
  {
   "cell_type": "code",
   "execution_count": 310,
   "id": "56a69fea-c592-4664-8c27-5e4735093445",
   "metadata": {},
   "outputs": [],
   "source": [
    "CD4.obsm['X_umap_harmony'] = CD4.obsm['X_umap']\n",
    "CD8.obsm['X_umap_harmony'] = CD8.obsm['X_umap']\n",
    "CD8_new = CD8[CD8.obs['leiden']!='7'].copy()"
   ]
  },
  {
   "cell_type": "code",
   "execution_count": 326,
   "id": "a42c33b4-21d1-4341-985f-467aa3814ca0",
   "metadata": {},
   "outputs": [
    {
     "name": "stderr",
     "output_type": "stream",
     "text": [
      "2024-11-28 14:01:12,754 - harmonypy - INFO - Computing initial centroids with sklearn.KMeans...\n",
      "2024-11-28 14:01:14,883 - harmonypy - INFO - sklearn.KMeans initialization complete.\n",
      "2024-11-28 14:01:14,903 - harmonypy - INFO - Iteration 1 of 10\n",
      "2024-11-28 14:01:16,150 - harmonypy - INFO - Iteration 2 of 10\n",
      "2024-11-28 14:01:17,402 - harmonypy - INFO - Iteration 3 of 10\n",
      "2024-11-28 14:01:18,640 - harmonypy - INFO - Iteration 4 of 10\n",
      "2024-11-28 14:01:19,892 - harmonypy - INFO - Converged after 4 iterations\n"
     ]
    }
   ],
   "source": [
    "sc.pp.highly_variable_genes(CD8_new, n_top_genes = 4000) \n",
    "CD8_new.var.loc[CD8_new.var.gene.isin(['XIST']),'highly_variable'] = False\n",
    "sc.tl.pca(CD8_new, n_comps=30)\n",
    "sce.pp.harmony_integrate(CD8_new, 'patient')\n",
    "sc.pp.neighbors(CD8_new, n_pcs=30, use_rep=\"X_pca_harmony\")\n",
    "sc.tl.umap(CD8_new)\n",
    "CD8_new.obsm['X_umap_harmony'] = CD8_new.obsm['X_umap']"
   ]
  },
  {
   "cell_type": "code",
   "execution_count": 329,
   "id": "3d5d910e-1743-40c1-b8e7-74fcdee8db8e",
   "metadata": {},
   "outputs": [],
   "source": [
    "CD8_new.write_h5ad('CD8_1128.h5ad')\n",
    "CD4.write_h5ad('CD4_1128.h5ad')"
   ]
  },
  {
   "cell_type": "markdown",
   "id": "a16d8895-d07c-4bcd-93cd-2ba36b86d656",
   "metadata": {},
   "source": [
    "## Integrate TCR data "
   ]
  },
  {
   "cell_type": "code",
   "execution_count": null,
   "id": "e28175eb-9116-4ca1-941a-4d6295873002",
   "metadata": {},
   "outputs": [],
   "source": [
    "tcr_out = []\n",
    "for i in os.listdir('.'):\n",
    "    if 'TCR' in i :\n",
    "        if '.sh' not in i:\n",
    "            if 'ipynb' not in i :\n",
    "                tcr_out.append(i)\n",
    "\n",
    "\n",
    "input = pd.DataFrame({'dir':tcr_out})\n",
    "input['sample'] = [i.replace('_VDJ','').replace('_B','').replace('_TCR','') for i in input['dir']]\n",
    "input['project'] = [int(i.split('_')[-2]) for i in input['sample']]\n",
    "input['ID']= [i.split('_')[1] for i in input['sample']]"
   ]
  },
  {
   "cell_type": "code",
   "execution_count": null,
   "id": "f9be327c-ddf6-4dcf-b754-5d0223253492",
   "metadata": {},
   "outputs": [],
   "source": [
    "meta = pd.read_csv('project_14423_meta.csv',sep ='\\t',header = None)\n",
    "meta.columns = ['patient','timepoint','time','date','sample_id','barcode','date_processed','seq_sample','ID','trial']\n",
    "meta['ID'] = meta['ID'].astype(str)\n",
    "input_data = input[(input['ID'].isin(input['ID']))*(input['project'] == 14423)]\n",
    "\n",
    "f_list = []\n",
    "\n",
    "for a, i in zip(input_data['dir'].values, input_data['sample'].values):\n",
    "    \n",
    "    f = pd.read_csv(f'./{a}/outs/filtered_contig_annotations.csv',sep = ',')\n",
    "    \n",
    "    alpha = f[f['chain'] == 'TRA']\n",
    "    alpha.index = alpha.barcode.copy()\n",
    "    beta = f[f['chain'] == 'TRB']\n",
    "    beta.index = beta.barcode.copy()\n",
    "    alpha = alpha.drop(columns = ['barcode']).add_prefix('alpha_')\n",
    "    beta = beta.drop(columns = ['barcode']).add_prefix('beta_')\n",
    "    tcr = alpha.reset_index().merge(beta.reset_index(),left_on = 'barcode', right_on = 'barcode', how = 'outer')\n",
    "    tcr['cohort'] = 14423\n",
    "    tcr['ID'] = str(i.split('_')[1])\n",
    "    tcr['sample'] = i    \n",
    "    tcr['unique_ID'] = tcr['cohort'].astype(str)+\"|\"+tcr['ID'].astype(str)+\"|\"+tcr['barcode'].astype(str)\n",
    "    \n",
    "    f_list.append(tcr)\n",
    "p14423 = pd.concat(f_list)"
   ]
  },
  {
   "cell_type": "code",
   "execution_count": null,
   "id": "9ab8e980-7690-4d4c-8793-97618698cb80",
   "metadata": {},
   "outputs": [],
   "source": [
    "meta = pd.read_csv('project_14450_meta.csv',sep ='\\t',header = None)\n",
    "meta.columns = ['patient','timepoint','time','date','sample_id','barcode','date_processed','seq_sample','ID','trial']\n",
    "meta['ID'] = meta['ID'].astype(str)\n",
    "input_data = input[(input['ID'].isin(input['ID']))*(input['project'] == 14450)]\n",
    "\n",
    "f_list = []\n",
    "\n",
    "for a, i in zip(input_data['dir'].values, input_data['sample'].values):\n",
    "    \n",
    "    f = pd.read_csv(f'./{a}/outs/filtered_contig_annotations.csv',sep = ',')\n",
    "    \n",
    "    alpha = f[f['chain'] == 'TRA']\n",
    "    alpha.index = alpha.barcode.copy()\n",
    "    beta = f[f['chain'] == 'TRB']\n",
    "    beta.index = beta.barcode.copy()\n",
    "    alpha = alpha.drop(columns = ['barcode']).add_prefix('alpha_')\n",
    "    beta = beta.drop(columns = ['barcode']).add_prefix('beta_')\n",
    "    tcr = alpha.reset_index().merge(beta.reset_index(),left_on = 'barcode', right_on = 'barcode', how = 'outer')\n",
    "    tcr['cohort'] = 14450\n",
    "    tcr['ID'] = str(i.split('_')[1])\n",
    "    tcr['sample'] = i    \n",
    "    tcr['unique_ID'] = tcr['cohort'].astype(str)+\"|\"+tcr['ID'].astype(str)+\"|\"+tcr['barcode'].astype(str)\n",
    "    \n",
    "    f_list.append(tcr)\n",
    "p14450 = pd.concat(f_list)"
   ]
  },
  {
   "cell_type": "code",
   "execution_count": null,
   "id": "cf6b2767-df15-4215-b18b-193d4c346fe6",
   "metadata": {},
   "outputs": [],
   "source": [
    "meta = pd.read_csv('project_14448_meta.csv',sep ='\\t',header = None)\n",
    "meta.columns = ['patient','timepoint','time','date','sample_id','barcode','date_processed','seq_sample','ID','trial']\n",
    "meta['ID'] = meta['ID'].astype(str)\n",
    "input_data = input[(input['ID'].isin(input['ID']))*(input['project'] == 14448)]\n",
    "\n",
    "f_list = []\n",
    "\n",
    "for a, i in zip(input_data['dir'].values, input_data['sample'].values):\n",
    "    \n",
    "    f = pd.read_csv(f'./{a}/outs/filtered_contig_annotations.csv',sep = ',')\n",
    "    \n",
    "    alpha = f[f['chain'] == 'TRA']\n",
    "    alpha.index = alpha.barcode.copy()\n",
    "    beta = f[f['chain'] == 'TRB']\n",
    "    beta.index = beta.barcode.copy()\n",
    "    alpha = alpha.drop(columns = ['barcode']).add_prefix('alpha_')\n",
    "    beta = beta.drop(columns = ['barcode']).add_prefix('beta_')\n",
    "    tcr = alpha.reset_index().merge(beta.reset_index(),left_on = 'barcode', right_on = 'barcode', how = 'outer')\n",
    "    tcr['cohort'] = 14448\n",
    "    tcr['ID'] = str(i.split('_')[1])\n",
    "    tcr['sample'] = i    \n",
    "    tcr['unique_ID'] = tcr['cohort'].astype(str)+\"|\"+tcr['ID'].astype(str)+\"|\"+tcr['barcode'].astype(str)\n",
    "    \n",
    "    f_list.append(tcr)\n",
    "p14448 = pd.concat(f_list)\n",
    "\n",
    "tcr_bind = pd.concat([ p14423,p14450, p14448])"
   ]
  },
  {
   "cell_type": "code",
   "execution_count": null,
   "id": "0dbe2fa1-7ed5-45cd-b372-bde460e8d9fc",
   "metadata": {},
   "outputs": [],
   "source": [
    "cd8 = sc.read_h5ad('CD8_1128.h5ad')\n",
    "cd4 = sc.read_h5ad('CD4_1128.h5ad')\n",
    "\n",
    "cd8.obs['cellstate'] = cd8.obs['leiden'].map({'0':'Effector','1':'Effector memory','3':'Effector memory','2':'Stem-like','4':'Stem-like'})\n",
    "cd4.obs['cellstate'] = cd4.obs['leiden'].map({'7':'Effector','6':'T-reg',})\n",
    "cd4.obs.loc[cd4.obs['cellstate'].isna(),'cellstate'] = 'Stem-like'\n",
    "\n",
    "cd4.obs['response'] = 'Non-responder'\n",
    "cd4.obs.loc[cd4.obs['patient'].isin(['10606','11414']),'response'] = 'Responder'\n",
    "\n",
    "cd8.obs['response'] = 'Non-responder'\n",
    "cd8.obs.loc[cd8.obs['patient'].isin(['10606','11414']),'response'] = 'Responder'\n",
    "\n"
   ]
  },
  {
   "cell_type": "code",
   "execution_count": null,
   "id": "2fa111d1-5050-4c7c-afc2-850bcb6f11bc",
   "metadata": {},
   "outputs": [],
   "source": [
    "### Final CD8, CD4 anndata\n",
    "\n",
    "cd8.write_h5ad('cd8_human_final.h5ad')\n",
    "cd4.write_h5ad('cd4_human_final.h5ad')"
   ]
  },
  {
   "cell_type": "code",
   "execution_count": null,
   "id": "b75bbe91-b2d2-47fd-ae4f-736dd713b519",
   "metadata": {},
   "outputs": [],
   "source": [
    "cd8_df = cd8.obs.copy()\n",
    "cd4_df = cd4.obs.copy()\n",
    "\n",
    "cd8_df['unique_ID'] = cd8_df['cohort'].astype(str)+\"|\"+cd8_df['10X_ID'].astype(str)+\"|\"+cd8_df['ident'].astype(str)\n",
    "cd4_df['unique_ID'] = cd4_df['cohort'].astype(str)+\"|\"+cd4_df['10X_ID'].astype(str)+\"|\"+cd4_df['ident'].astype(str)\n",
    "\n",
    "cd4_df = cd4_df.reset_index()\n",
    "cd8_df = cd8_df.reset_index()\n",
    "\n",
    "cd8_tcr = tcr_bind[tcr_bind['unique_ID'].isin(cd8_df['unique_ID'])]\n",
    "cd4_tcr = tcr_bind[tcr_bind['unique_ID'].isin(cd4_df['unique_ID'])]\n",
    "\n",
    "cd8_tcr['clone_pair'] =  cd8_tcr['alpha_cdr3_nt']+  cd8_tcr['beta_cdr3_nt']\n",
    "cd4_tcr['clone_pair'] =  cd4_tcr['alpha_cdr3_nt']+  cd4_tcr['beta_cdr3_nt']\n",
    "\n",
    "cd8_tcr = cd8_tcr.dropna(subset=['beta_cdr3'])\n",
    "cd4_tcr = cd4_tcr.dropna(subset=['beta_cdr3'])\n",
    "\n",
    "cd8_merge = cd8_df.merge(cd8_tcr, left_on = 'unique_ID', right_on ='unique_ID')\n",
    "cd4_merge = cd4_df.merge(cd4_tcr, left_on = 'unique_ID', right_on ='unique_ID')\n",
    "\n",
    "cd8_merge_clean = cd8_merge[(~cd8_merge['timepoint'].isin(['Day 28 F/U',])) ]\n",
    "cd4_merge_clean = cd4_merge[(~cd4_merge['timepoint'].isin(['Day 28 F/U',])) ]\n",
    "\n",
    "cd8_merge_clean['patient'] = cd8_merge_clean['patient'].astype(str)\n",
    "cd4_merge_clean['patient'] = cd4_merge_clean['patient'].astype(str)\n",
    "\n",
    "cd8_merge_clean['timepoint'] = cd8_merge_clean['timepoint'].astype(str)\n",
    "cd4_merge_clean['timepoint'] = cd4_merge_clean['timepoint'].astype(str)\n",
    "\n",
    "cd8_merge_clean['leiden'] = cd8_merge_clean['leiden'].astype(str)"
   ]
  },
  {
   "cell_type": "code",
   "execution_count": null,
   "id": "c7ec5ea2-14a1-40d8-816f-f044354c8acc",
   "metadata": {},
   "outputs": [],
   "source": [
    "## final integrated CD4, CD8 TCR csv file \n",
    "\n",
    "cd8_merge_clean.to_csv('cd8_merge_clean.csv',sep ='\\t')\n",
    "cd4_merge_clean.to_csv('cd4_merge_clean.csv',sep ='\\t')"
   ]
  }
 ],
 "metadata": {
  "kernelspec": {
   "display_name": "py38",
   "language": "python",
   "name": "py38"
  },
  "language_info": {
   "codemirror_mode": {
    "name": "ipython",
    "version": 3
   },
   "file_extension": ".py",
   "mimetype": "text/x-python",
   "name": "python",
   "nbconvert_exporter": "python",
   "pygments_lexer": "ipython3",
   "version": "3.8.18"
  }
 },
 "nbformat": 4,
 "nbformat_minor": 5
}
